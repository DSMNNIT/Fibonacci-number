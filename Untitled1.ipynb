{
  "nbformat": 4,
  "nbformat_minor": 0,
  "metadata": {
    "colab": {
      "name": "Untitled1.ipynb",
      "provenance": [],
      "collapsed_sections": []
    },
    "kernelspec": {
      "name": "python3",
      "display_name": "Python 3"
    },
    "language_info": {
      "name": "python"
    }
  },
  "cells": [
    {
      "cell_type": "code",
      "metadata": {
        "colab": {
          "base_uri": "https://localhost:8080/"
        },
        "id": "cAXXPkth5aha",
        "outputId": "685fb9dd-a5ba-4be8-b286-99f30a72b553"
      },
      "source": [
        "def fib(x):\n",
        "  if (x==0):\n",
        "    return 0\n",
        "  if (x==1):\n",
        "    return 1\n",
        "  if (x>1):\n",
        "    return fib(x-1)+fib(x-2)\n",
        "print(\"Print first n fibonacci numbers \")\n",
        "n=int(input(\"enter the number   \"))\n",
        "c=0\n",
        "for i in range(n):\n",
        "  z=fib(i)\n",
        "  print(z)\n",
        "  c=c+z\n",
        "\n",
        "print (\"Sum of n fibonacci numbers is  \", c)\n"
      ],
      "execution_count": 28,
      "outputs": [
        {
          "output_type": "stream",
          "text": [
            "Print first n fibonacci numbers \n",
            "enter the number   6\n",
            "0\n",
            "1\n",
            "1\n",
            "2\n",
            "3\n",
            "5\n",
            "Sum of n fibonacci numbers is   12\n"
          ],
          "name": "stdout"
        }
      ]
    },
    {
      "cell_type": "code",
      "metadata": {
        "colab": {
          "base_uri": "https://localhost:8080/"
        },
        "id": "eF4-h5gr6yah",
        "outputId": "10eb40b9-6929-45b3-81ee-23007b0fd479"
      },
      "source": [
        ""
      ],
      "execution_count": 9,
      "outputs": [
        {
          "output_type": "stream",
          "text": [
            "0\n",
            "1\n",
            "1\n",
            "2\n",
            "3\n"
          ],
          "name": "stdout"
        }
      ]
    },
    {
      "cell_type": "code",
      "metadata": {
        "id": "1WQQPB_i7EoN"
      },
      "source": [
        ""
      ],
      "execution_count": null,
      "outputs": []
    }
  ]
}